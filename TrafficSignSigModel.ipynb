{
 "cells": [
  {
   "cell_type": "markdown",
   "metadata": {},
   "source": [
    "### Model training and validation"
   ]
  },
  {
   "cell_type": "code",
   "execution_count": 1,
   "metadata": {},
   "outputs": [],
   "source": [
    "import tensorflow as tf\n",
    "from tensorflow.keras.models import Sequential\n",
    "from tensorflow.keras.layers import Dense, Dropout, Activation, Flatten, Conv2D, MaxPooling2D\n",
    "import pickle\n",
    "import matplotlib.pyplot as plt\n",
    "import numpy as np"
   ]
  },
  {
   "cell_type": "code",
   "execution_count": 2,
   "metadata": {},
   "outputs": [],
   "source": [
    "# Matplotlib defaults\n",
    "\n",
    "SMALL_SIZE = 12\n",
    "MEDIUM_SIZE = 16\n",
    "BIGGER_SIZE = 20\n",
    "\n",
    "plt.rc('font', size=SMALL_SIZE)          # controls default text sizes\n",
    "plt.rc('axes', titlesize=SMALL_SIZE)     # fontsize of the axes title\n",
    "plt.rc('axes', labelsize=MEDIUM_SIZE)    # fontsize of the x and y labels\n",
    "plt.rc('xtick', labelsize=SMALL_SIZE)    # fontsize of the tick labels\n",
    "plt.rc('ytick', labelsize=SMALL_SIZE)    # fontsize of the tick labels\n",
    "plt.rc('legend', fontsize=SMALL_SIZE)    # legend fontsize\n",
    "plt.rc('figure', titlesize=BIGGER_SIZE)  # fontsize of the figure title\n",
    "\n",
    "TNRFONT = {'fontname':'Times New Roman'} # change font style"
   ]
  },
  {
   "cell_type": "code",
   "execution_count": 3,
   "metadata": {},
   "outputs": [],
   "source": [
    "X = pickle.load(open(\"X.pickle\", \"rb\"))\n",
    "y = pickle.load(open(\"y.pickle\", \"rb\"))"
   ]
  },
  {
   "cell_type": "code",
   "execution_count": 4,
   "metadata": {},
   "outputs": [],
   "source": [
    "X=X/255.0"
   ]
  },
  {
   "cell_type": "code",
   "execution_count": 5,
   "metadata": {},
   "outputs": [],
   "source": [
    "model = Sequential()\n",
    "model.add(Conv2D(64, (3,3), input_shape = X.shape[1:]))\n",
    "model.add(Activation(\"relu\"))\n",
    "model.add(MaxPooling2D(pool_size = (2,2)))\n",
    "\n",
    "model.add(Conv2D(64, (3,3)))\n",
    "model.add(Activation(\"relu\"))\n",
    "model.add(MaxPooling2D(pool_size = (2,2)))\n",
    "\n",
    "\n",
    "model.add(Flatten())\n",
    "model.add(Dense(32))\n",
    "model.add(Dense(46))\n",
    "model.add(Activation(\"softmax\"))"
   ]
  },
  {
   "cell_type": "code",
   "execution_count": 6,
   "metadata": {},
   "outputs": [],
   "source": [
    "model.compile(loss='categorical_crossentropy', optimizer='adam', metrics=['accuracy'])"
   ]
  },
  {
   "cell_type": "code",
   "execution_count": 7,
   "metadata": {},
   "outputs": [
    {
     "name": "stdout",
     "output_type": "stream",
     "text": [
      "Train on 6900 samples, validate on 2300 samples\n",
      "Epoch 1/10\n",
      "6900/6900 [==============================] - 13s 2ms/sample - loss: 1.8363 - accuracy: 0.5084 - val_loss: 0.7839 - val_accuracy: 0.7783\n",
      "Epoch 2/10\n",
      "6900/6900 [==============================] - 13s 2ms/sample - loss: 0.4514 - accuracy: 0.8790 - val_loss: 0.4287 - val_accuracy: 0.8935\n",
      "Epoch 3/10\n",
      "6900/6900 [==============================] - 13s 2ms/sample - loss: 0.1890 - accuracy: 0.9517 - val_loss: 0.4305 - val_accuracy: 0.9078\n",
      "Epoch 4/10\n",
      "6900/6900 [==============================] - 13s 2ms/sample - loss: 0.1342 - accuracy: 0.9677 - val_loss: 0.3268 - val_accuracy: 0.9287\n",
      "Epoch 5/10\n",
      "6900/6900 [==============================] - 13s 2ms/sample - loss: 0.0909 - accuracy: 0.9804 - val_loss: 0.3142 - val_accuracy: 0.9378\n",
      "Epoch 6/10\n",
      "6900/6900 [==============================] - 15s 2ms/sample - loss: 0.0734 - accuracy: 0.9838 - val_loss: 0.3400 - val_accuracy: 0.9322\n",
      "Epoch 7/10\n",
      "6900/6900 [==============================] - 15s 2ms/sample - loss: 0.0759 - accuracy: 0.9801 - val_loss: 0.3994 - val_accuracy: 0.9252\n",
      "Epoch 8/10\n",
      "6900/6900 [==============================] - 15s 2ms/sample - loss: 0.0457 - accuracy: 0.9875 - val_loss: 0.2708 - val_accuracy: 0.9570\n",
      "Epoch 9/10\n",
      "6900/6900 [==============================] - 15s 2ms/sample - loss: 0.0714 - accuracy: 0.9807 - val_loss: 0.3157 - val_accuracy: 0.9457\n",
      "Epoch 10/10\n",
      "6900/6900 [==============================] - 16s 2ms/sample - loss: 0.0153 - accuracy: 0.9961 - val_loss: 0.2712 - val_accuracy: 0.9609\n"
     ]
    }
   ],
   "source": [
    "model_design = model.fit(X, y, batch_size=16, epochs=10, validation_split=0.25)"
   ]
  },
  {
   "cell_type": "code",
   "execution_count": 8,
   "metadata": {},
   "outputs": [],
   "source": [
    "model.save('Traffic_Sign_Signal_pred_model_Final.h5')"
   ]
  },
  {
   "cell_type": "code",
   "execution_count": 9,
   "metadata": {},
   "outputs": [],
   "source": [
    "X_train, X_val = X[:6901], X[6901:]\n",
    "y_train, y_val = y[:6901], y[6901:]"
   ]
  },
  {
   "cell_type": "code",
   "execution_count": 10,
   "metadata": {},
   "outputs": [
    {
     "name": "stdout",
     "output_type": "stream",
     "text": [
      "Train accuracy : 99.681, Validation accuracy : 96.085\n"
     ]
    }
   ],
   "source": [
    "_, train_acc = model.evaluate(X_train, y_train, verbose = 0)\n",
    "_, val_acc = model.evaluate(X_val, y_val, verbose = 0)\n",
    "print('Train accuracy : %.3f, Validation accuracy : %.3f' % (train_acc*100, val_acc*100))"
   ]
  },
  {
   "cell_type": "code",
   "execution_count": 11,
   "metadata": {},
   "outputs": [
    {
     "data": {
      "image/png": "[encoded data removed]",
      "text/plain": [
       "<Figure size 432x288 with 1 Axes>"
      ]
     },
     "metadata": {
      "needs_background": "light"
     },
     "output_type": "display_data"
    }
   ],
   "source": [
    "plt.title('Loss', fontsize= BIGGER_SIZE, **TNRFONT)\n",
    "plt.plot(model_design.history['loss'], label = 'train')\n",
    "plt.plot(model_design.history['val_loss'], label = 'validation')\n",
    "plt.legend(prop={'family':'Times New Roman'})\n",
    "plt.xticks(np.arange(0, 12, 2), **TNRFONT)\n",
    "plt.yticks(**TNRFONT)\n",
    "plt.ylabel('Loss', **TNRFONT)\n",
    "plt.xlabel('Epochs', **TNRFONT)\n",
    "plt.grid()\n",
    "plt.show()"
   ]
  },
  {
   "cell_type": "code",
   "execution_count": 12,
   "metadata": {},
   "outputs": [],
   "source": [
    "train_accuracy_list = np.array(model_design.history['accuracy'])*100"
   ]
  },
  {
   "cell_type": "code",
   "execution_count": 13,
   "metadata": {},
   "outputs": [],
   "source": [
    "val_accuracy_list = np.array(model_design.history['val_accuracy'])*100"
   ]
  },
  {
   "cell_type": "code",
   "execution_count": 14,
   "metadata": {},
   "outputs": [
    {
     "data": {
      "image/png": "[encoded data removed]",
      "text/plain": [
       "<Figure size 432x288 with 1 Axes>"
      ]
     },
     "metadata": {
      "needs_background": "light"
     },
     "output_type": "display_data"
    }
   ],
   "source": [
    "plt.title('Accuracy', fontsize= BIGGER_SIZE, **TNRFONT)\n",
    "plt.plot(train_accuracy_list, label='train')\n",
    "plt.plot(val_accuracy_list, label='validation')\n",
    "plt.legend(prop={'family':'Times New Roman',})\n",
    "plt.xticks(np.arange(0, 12, 2), **TNRFONT)\n",
    "plt.yticks(**TNRFONT)\n",
    "plt.ylabel('Accuracy', **TNRFONT)\n",
    "plt.xlabel('Epochs', **TNRFONT)\n",
    "plt.grid()\n",
    "plt.show()"
   ]
  },
  {
   "cell_type": "code",
   "execution_count": null,
   "metadata": {},
   "outputs": [],
   "source": []
  }
 ],
 "metadata": {
  "kernelspec": {
   "display_name": "Python 3",
   "language": "python",
   "name": "python3"
  },
  "language_info": {
   "codemirror_mode": {
    "name": "ipython",
    "version": 3
   },
   "file_extension": ".py",
   "mimetype": "text/x-python",
   "name": "python",
   "nbconvert_exporter": "python",
   "pygments_lexer": "ipython3",
   "version": "3.7.4"
  }
 },
 "nbformat": 4,
 "nbformat_minor": 4
}
